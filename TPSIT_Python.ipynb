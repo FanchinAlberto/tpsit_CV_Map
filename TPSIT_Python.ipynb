{
  "cells": [
    {
      "cell_type": "markdown",
      "metadata": {
        "id": "view-in-github",
        "colab_type": "text"
      },
      "source": [
        "<a href=\"https://colab.research.google.com/github/FanchinAlberto/tpsit_CV_Map/blob/main/TPSIT_Python.ipynb\" target=\"_parent\"><img src=\"https://colab.research.google.com/assets/colab-badge.svg\" alt=\"Open In Colab\"/></a>"
      ]
    },
    {
      "cell_type": "markdown",
      "metadata": {
        "id": "RHIPW_cNTug4"
      },
      "source": [
        "Cognome:                Nome:               Classe: "
      ]
    },
    {
      "cell_type": "code",
      "source": [
        "\"Fanchin Alberto 4CII\""
      ],
      "metadata": {
        "id": "yJC1CTRc10qn",
        "outputId": "6c6f1f4f-1a18-41dd-dfe7-66fa20f55928",
        "colab": {
          "base_uri": "https://localhost:8080/",
          "height": 35
        }
      },
      "execution_count": 3,
      "outputs": [
        {
          "output_type": "execute_result",
          "data": {
            "text/plain": [
              "'Fanchin Alberto 4CII'"
            ],
            "application/vnd.google.colaboratory.intrinsic+json": {
              "type": "string"
            }
          },
          "metadata": {},
          "execution_count": 3
        }
      ]
    },
    {
      "cell_type": "markdown",
      "metadata": {
        "id": "L-KPjGVATug6"
      },
      "source": [
        "1. Definire una funzione *somma(...)* che calcoli la somma dei primi 500 numeri. È l'algoritmo più rapido ?"
      ]
    },
    {
      "cell_type": "code",
      "source": [
        "def somma():\n",
        "  x = range(500)\n",
        "  mid = 0\n",
        "  for n in x:\n",
        "    mid += n\n",
        "    print(mid)\n",
        "\n",
        "somma()"
      ],
      "metadata": {
        "id": "e1_TxIq2AyAw",
        "outputId": "dae76f01-dc49-42db-9654-e58ccce27cae",
        "colab": {
          "base_uri": "https://localhost:8080/"
        }
      },
      "execution_count": 6,
      "outputs": [
        {
          "output_type": "stream",
          "name": "stdout",
          "text": [
            "0\n",
            "1\n",
            "3\n",
            "6\n",
            "10\n",
            "15\n",
            "21\n",
            "28\n",
            "36\n",
            "45\n",
            "55\n",
            "66\n",
            "78\n",
            "91\n",
            "105\n",
            "120\n",
            "136\n",
            "153\n",
            "171\n",
            "190\n",
            "210\n",
            "231\n",
            "253\n",
            "276\n",
            "300\n",
            "325\n",
            "351\n",
            "378\n",
            "406\n",
            "435\n",
            "465\n",
            "496\n",
            "528\n",
            "561\n",
            "595\n",
            "630\n",
            "666\n",
            "703\n",
            "741\n",
            "780\n",
            "820\n",
            "861\n",
            "903\n",
            "946\n",
            "990\n",
            "1035\n",
            "1081\n",
            "1128\n",
            "1176\n",
            "1225\n",
            "1275\n",
            "1326\n",
            "1378\n",
            "1431\n",
            "1485\n",
            "1540\n",
            "1596\n",
            "1653\n",
            "1711\n",
            "1770\n",
            "1830\n",
            "1891\n",
            "1953\n",
            "2016\n",
            "2080\n",
            "2145\n",
            "2211\n",
            "2278\n",
            "2346\n",
            "2415\n",
            "2485\n",
            "2556\n",
            "2628\n",
            "2701\n",
            "2775\n",
            "2850\n",
            "2926\n",
            "3003\n",
            "3081\n",
            "3160\n",
            "3240\n",
            "3321\n",
            "3403\n",
            "3486\n",
            "3570\n",
            "3655\n",
            "3741\n",
            "3828\n",
            "3916\n",
            "4005\n",
            "4095\n",
            "4186\n",
            "4278\n",
            "4371\n",
            "4465\n",
            "4560\n",
            "4656\n",
            "4753\n",
            "4851\n",
            "4950\n",
            "5050\n",
            "5151\n",
            "5253\n",
            "5356\n",
            "5460\n",
            "5565\n",
            "5671\n",
            "5778\n",
            "5886\n",
            "5995\n",
            "6105\n",
            "6216\n",
            "6328\n",
            "6441\n",
            "6555\n",
            "6670\n",
            "6786\n",
            "6903\n",
            "7021\n",
            "7140\n",
            "7260\n",
            "7381\n",
            "7503\n",
            "7626\n",
            "7750\n",
            "7875\n",
            "8001\n",
            "8128\n",
            "8256\n",
            "8385\n",
            "8515\n",
            "8646\n",
            "8778\n",
            "8911\n",
            "9045\n",
            "9180\n",
            "9316\n",
            "9453\n",
            "9591\n",
            "9730\n",
            "9870\n",
            "10011\n",
            "10153\n",
            "10296\n",
            "10440\n",
            "10585\n",
            "10731\n",
            "10878\n",
            "11026\n",
            "11175\n",
            "11325\n",
            "11476\n",
            "11628\n",
            "11781\n",
            "11935\n",
            "12090\n",
            "12246\n",
            "12403\n",
            "12561\n",
            "12720\n",
            "12880\n",
            "13041\n",
            "13203\n",
            "13366\n",
            "13530\n",
            "13695\n",
            "13861\n",
            "14028\n",
            "14196\n",
            "14365\n",
            "14535\n",
            "14706\n",
            "14878\n",
            "15051\n",
            "15225\n",
            "15400\n",
            "15576\n",
            "15753\n",
            "15931\n",
            "16110\n",
            "16290\n",
            "16471\n",
            "16653\n",
            "16836\n",
            "17020\n",
            "17205\n",
            "17391\n",
            "17578\n",
            "17766\n",
            "17955\n",
            "18145\n",
            "18336\n",
            "18528\n",
            "18721\n",
            "18915\n",
            "19110\n",
            "19306\n",
            "19503\n",
            "19701\n",
            "19900\n",
            "20100\n",
            "20301\n",
            "20503\n",
            "20706\n",
            "20910\n",
            "21115\n",
            "21321\n",
            "21528\n",
            "21736\n",
            "21945\n",
            "22155\n",
            "22366\n",
            "22578\n",
            "22791\n",
            "23005\n",
            "23220\n",
            "23436\n",
            "23653\n",
            "23871\n",
            "24090\n",
            "24310\n",
            "24531\n",
            "24753\n",
            "24976\n",
            "25200\n",
            "25425\n",
            "25651\n",
            "25878\n",
            "26106\n",
            "26335\n",
            "26565\n",
            "26796\n",
            "27028\n",
            "27261\n",
            "27495\n",
            "27730\n",
            "27966\n",
            "28203\n",
            "28441\n",
            "28680\n",
            "28920\n",
            "29161\n",
            "29403\n",
            "29646\n",
            "29890\n",
            "30135\n",
            "30381\n",
            "30628\n",
            "30876\n",
            "31125\n",
            "31375\n",
            "31626\n",
            "31878\n",
            "32131\n",
            "32385\n",
            "32640\n",
            "32896\n",
            "33153\n",
            "33411\n",
            "33670\n",
            "33930\n",
            "34191\n",
            "34453\n",
            "34716\n",
            "34980\n",
            "35245\n",
            "35511\n",
            "35778\n",
            "36046\n",
            "36315\n",
            "36585\n",
            "36856\n",
            "37128\n",
            "37401\n",
            "37675\n",
            "37950\n",
            "38226\n",
            "38503\n",
            "38781\n",
            "39060\n",
            "39340\n",
            "39621\n",
            "39903\n",
            "40186\n",
            "40470\n",
            "40755\n",
            "41041\n",
            "41328\n",
            "41616\n",
            "41905\n",
            "42195\n",
            "42486\n",
            "42778\n",
            "43071\n",
            "43365\n",
            "43660\n",
            "43956\n",
            "44253\n",
            "44551\n",
            "44850\n",
            "45150\n",
            "45451\n",
            "45753\n",
            "46056\n",
            "46360\n",
            "46665\n",
            "46971\n",
            "47278\n",
            "47586\n",
            "47895\n",
            "48205\n",
            "48516\n",
            "48828\n",
            "49141\n",
            "49455\n",
            "49770\n",
            "50086\n",
            "50403\n",
            "50721\n",
            "51040\n",
            "51360\n",
            "51681\n",
            "52003\n",
            "52326\n",
            "52650\n",
            "52975\n",
            "53301\n",
            "53628\n",
            "53956\n",
            "54285\n",
            "54615\n",
            "54946\n",
            "55278\n",
            "55611\n",
            "55945\n",
            "56280\n",
            "56616\n",
            "56953\n",
            "57291\n",
            "57630\n",
            "57970\n",
            "58311\n",
            "58653\n",
            "58996\n",
            "59340\n",
            "59685\n",
            "60031\n",
            "60378\n",
            "60726\n",
            "61075\n",
            "61425\n",
            "61776\n",
            "62128\n",
            "62481\n",
            "62835\n",
            "63190\n",
            "63546\n",
            "63903\n",
            "64261\n",
            "64620\n",
            "64980\n",
            "65341\n",
            "65703\n",
            "66066\n",
            "66430\n",
            "66795\n",
            "67161\n",
            "67528\n",
            "67896\n",
            "68265\n",
            "68635\n",
            "69006\n",
            "69378\n",
            "69751\n",
            "70125\n",
            "70500\n",
            "70876\n",
            "71253\n",
            "71631\n",
            "72010\n",
            "72390\n",
            "72771\n",
            "73153\n",
            "73536\n",
            "73920\n",
            "74305\n",
            "74691\n",
            "75078\n",
            "75466\n",
            "75855\n",
            "76245\n",
            "76636\n",
            "77028\n",
            "77421\n",
            "77815\n",
            "78210\n",
            "78606\n",
            "79003\n",
            "79401\n",
            "79800\n",
            "80200\n",
            "80601\n",
            "81003\n",
            "81406\n",
            "81810\n",
            "82215\n",
            "82621\n",
            "83028\n",
            "83436\n",
            "83845\n",
            "84255\n",
            "84666\n",
            "85078\n",
            "85491\n",
            "85905\n",
            "86320\n",
            "86736\n",
            "87153\n",
            "87571\n",
            "87990\n",
            "88410\n",
            "88831\n",
            "89253\n",
            "89676\n",
            "90100\n",
            "90525\n",
            "90951\n",
            "91378\n",
            "91806\n",
            "92235\n",
            "92665\n",
            "93096\n",
            "93528\n",
            "93961\n",
            "94395\n",
            "94830\n",
            "95266\n",
            "95703\n",
            "96141\n",
            "96580\n",
            "97020\n",
            "97461\n",
            "97903\n",
            "98346\n",
            "98790\n",
            "99235\n",
            "99681\n",
            "100128\n",
            "100576\n",
            "101025\n",
            "101475\n",
            "101926\n",
            "102378\n",
            "102831\n",
            "103285\n",
            "103740\n",
            "104196\n",
            "104653\n",
            "105111\n",
            "105570\n",
            "106030\n",
            "106491\n",
            "106953\n",
            "107416\n",
            "107880\n",
            "108345\n",
            "108811\n",
            "109278\n",
            "109746\n",
            "110215\n",
            "110685\n",
            "111156\n",
            "111628\n",
            "112101\n",
            "112575\n",
            "113050\n",
            "113526\n",
            "114003\n",
            "114481\n",
            "114960\n",
            "115440\n",
            "115921\n",
            "116403\n",
            "116886\n",
            "117370\n",
            "117855\n",
            "118341\n",
            "118828\n",
            "119316\n",
            "119805\n",
            "120295\n",
            "120786\n",
            "121278\n",
            "121771\n",
            "122265\n",
            "122760\n",
            "123256\n",
            "123753\n",
            "124251\n",
            "124750\n"
          ]
        }
      ]
    },
    {
      "cell_type": "markdown",
      "metadata": {
        "id": "FwRcm9oFTug7"
      },
      "source": [
        "2. Assegnare il proprio Cognome e Nome alla stringa *nome_cognome*, quindi visualizzare un elenco contenente\n",
        "    la lettera e la sua posizione \n",
        "    \n",
        "    ( F: 1, a: 2, ...)"
      ]
    },
    {
      "cell_type": "code",
      "execution_count": null,
      "metadata": {
        "id": "UiDKFEcZTug7"
      },
      "outputs": [],
      "source": [
        "nome_cognome = \"Fanchin Alberto\""
      ]
    },
    {
      "cell_type": "markdown",
      "metadata": {
        "id": "40wMTfzdTug8"
      },
      "source": [
        "3. Definire una funzione *complementare(...)*, che ritorni l'iniziale del **nucleotide** complementare a quello passato come argomento: \n",
        "\n",
        "    *Adenina <=> Timina , Guanina <=> Citosina*\n",
        "    \n",
        "    Assicurarsi che funzioni indipendentemente dal case del parametro fornito.\n",
        "    Scrivere tre invocazioni di test"
      ]
    },
    {
      "cell_type": "code",
      "execution_count": 9,
      "metadata": {
        "id": "0UEn73nsTug8",
        "outputId": "c1941cd5-b687-47fe-fda1-6df0882b5270",
        "colab": {
          "base_uri": "https://localhost:8080/"
        }
      },
      "outputs": [
        {
          "output_type": "stream",
          "name": "stdout",
          "text": [
            "T\n",
            "A\n",
            "G\n"
          ]
        }
      ],
      "source": [
        "def complementare(nucleotide):\n",
        "  if nucleotide == \"A\":\n",
        "    print(\"T\")\n",
        "    return\n",
        "  elif nucleotide == \"T\":\n",
        "    print(\"A\")\n",
        "    return\n",
        "  elif nucleotide == \"G\":\n",
        "    print(\"C\")\n",
        "    return\n",
        "  elif nucleotide == \"C\":\n",
        "    print(\"G\")\n",
        "    return\n",
        "\n",
        "complementare(\"A\")\n",
        "complementare(\"T\")\n",
        "complementare(\"C\")"
      ]
    },
    {
      "cell_type": "markdown",
      "metadata": {
        "id": "TEtHwbgoTug8"
      },
      "source": [
        "4. Definire una funzione *filamento_opposto(...)* che utilizzi la funzione *complementare(...)* per ritornare il filamento opposto a quello passato come argomento.\n",
        "\n",
        "   Es. filamento_opposto('CTAATGT') => 'GATTACA'"
      ]
    },
    {
      "cell_type": "code",
      "execution_count": 10,
      "metadata": {
        "id": "0dv59IrVTug9",
        "outputId": "438e3d89-5166-4671-82a5-728accee9395",
        "colab": {
          "base_uri": "https://localhost:8080/"
        }
      },
      "outputs": [
        {
          "output_type": "stream",
          "name": "stdout",
          "text": [
            "G\n",
            "A\n",
            "T\n",
            "T\n",
            "A\n",
            "C\n",
            "A\n"
          ]
        }
      ],
      "source": [
        "def filamento_opposto(filamento):\n",
        "  for element in filamento:\n",
        "    complementare(element)\n",
        "\n",
        "filamento_opposto(\"CTAATGT\")"
      ]
    },
    {
      "cell_type": "markdown",
      "metadata": {
        "id": "53ATG58-Tug9"
      },
      "source": [
        "5.  Definire due *tuple* nome e cognome, contenenti almeno 5 studenti: generare una lista in cui ogni elemento è un dizionario con chiavi 'nome' e 'cognome' che accoppia i nomi e cognomi nelle due tuple in base all'ordine."
      ]
    },
    {
      "cell_type": "code",
      "execution_count": 13,
      "metadata": {
        "id": "pAuryWQsTug9",
        "outputId": "d3cfc2a3-69d2-47d2-b01f-71a706ba500a",
        "colab": {
          "base_uri": "https://localhost:8080/",
          "height": 234
        }
      },
      "outputs": [
        {
          "output_type": "error",
          "ename": "TypeError",
          "evalue": "ignored",
          "traceback": [
            "\u001b[0;31m---------------------------------------------------------------------------\u001b[0m",
            "\u001b[0;31mTypeError\u001b[0m                                 Traceback (most recent call last)",
            "\u001b[0;32m<ipython-input-13-3dec9ac4b8f3>\u001b[0m in \u001b[0;36m<module>\u001b[0;34m()\u001b[0m\n\u001b[1;32m      4\u001b[0m \u001b[0mlista\u001b[0m \u001b[0;34m=\u001b[0m \u001b[0;34m[\u001b[0m\u001b[0;34m]\u001b[0m\u001b[0;34m\u001b[0m\u001b[0;34m\u001b[0m\u001b[0m\n\u001b[1;32m      5\u001b[0m \u001b[0;34m\u001b[0m\u001b[0m\n\u001b[0;32m----> 6\u001b[0;31m \u001b[0;32mfor\u001b[0m \u001b[0mx\u001b[0m \u001b[0;32min\u001b[0m \u001b[0mnomi\u001b[0m \u001b[0;32mand\u001b[0m \u001b[0my\u001b[0m \u001b[0;32min\u001b[0m \u001b[0mcognomi\u001b[0m\u001b[0;34m:\u001b[0m\u001b[0;34m\u001b[0m\u001b[0;34m\u001b[0m\u001b[0m\n\u001b[0m\u001b[1;32m      7\u001b[0m   \u001b[0mdicto\u001b[0m \u001b[0;34m=\u001b[0m \u001b[0;34m{\u001b[0m\u001b[0;34m\"nome\"\u001b[0m \u001b[0;34m:\u001b[0m \u001b[0mx\u001b[0m\u001b[0;34m,\u001b[0m \u001b[0;34m\"cognome\"\u001b[0m\u001b[0;34m:\u001b[0m\u001b[0my\u001b[0m\u001b[0;34m}\u001b[0m\u001b[0;34m\u001b[0m\u001b[0;34m\u001b[0m\u001b[0m\n\u001b[1;32m      8\u001b[0m   \u001b[0mlista\u001b[0m\u001b[0;34m.\u001b[0m\u001b[0mappend\u001b[0m\u001b[0;34m(\u001b[0m\u001b[0mdicto\u001b[0m\u001b[0;34m)\u001b[0m\u001b[0;34m\u001b[0m\u001b[0;34m\u001b[0m\u001b[0m\n",
            "\u001b[0;31mTypeError\u001b[0m: 'bool' object is not iterable"
          ]
        }
      ],
      "source": [
        "nomi = (\"Alberto\", \"Mattia\", \"Diego\", \"Riccardo Maria\", \"Joey\")\n",
        "cognomi = (\"Fanchin\", \"Tognato\", \"Lazzaretto\", \"Fanin\", \"Gheller\")\n",
        "\n",
        "lista = []\n",
        "\n",
        "for x in nomi:\n",
        "  dicto = {\"nome\" : x, \"cognome\":y}\n",
        "  lista.append(dicto)\n",
        "\n",
        "print(lista)"
      ]
    },
    {
      "cell_type": "markdown",
      "metadata": {
        "id": "hAV-PdErTug9"
      },
      "source": [
        "6. Definire la funzione *frequenza(...)* che restituisca un dizionario rappresentante la \"frequenza di comparsa\" di ciascun carattere componente il parametro. Invocarla usando la stringa *nome_cognome* come parametro"
      ]
    },
    {
      "cell_type": "code",
      "execution_count": null,
      "metadata": {
        "id": "IwuU1DVgTug9"
      },
      "outputs": [],
      "source": [
        ""
      ]
    },
    {
      "cell_type": "markdown",
      "metadata": {
        "id": "8aIGh6MGTug9"
      },
      "source": [
        "7. Utilizzando la libreria *random*, definire la funzione *genera_mac()* che ritorna un indirizzo MAC casuale ma valido"
      ]
    },
    {
      "cell_type": "code",
      "execution_count": null,
      "metadata": {
        "id": "qhOpHgTFTug9"
      },
      "outputs": [],
      "source": [
        ""
      ]
    },
    {
      "cell_type": "markdown",
      "metadata": {
        "id": "jojfv_aZTug-"
      },
      "source": [
        "8. Usando le librerie *random* e *string*, definire la funzione *genera_password(...)* che ritorna una password casuale di lunghezza pari al primo parametro e costituita da lettere maiuscole, minuscole, numeri e caratteri speciali, in quantità pari almeno al secondo parametro (tupla).\n",
        "\n",
        "    Es. genera_password(30, (10, 5, 3, 4)) => Password lunga 30 con almeno 10 maiuscole, 5 minuscole, 3 numeri e 4 caratteri speciali"
      ]
    },
    {
      "cell_type": "code",
      "execution_count": null,
      "metadata": {
        "id": "s2jXwckPTug-"
      },
      "outputs": [],
      "source": [
        ""
      ]
    }
  ],
  "metadata": {
    "interpreter": {
      "hash": "40d3a090f54c6569ab1632332b64b2c03c39dcf918b08424e98f38b5ae0af88f"
    },
    "kernelspec": {
      "display_name": "Python 3",
      "language": "python",
      "name": "python3"
    },
    "language_info": {
      "codemirror_mode": {
        "name": "ipython",
        "version": 3
      },
      "file_extension": ".py",
      "mimetype": "text/x-python",
      "name": "python",
      "nbconvert_exporter": "python",
      "pygments_lexer": "ipython3",
      "version": "3.8.8"
    },
    "colab": {
      "name": "Base.ipynb",
      "provenance": [],
      "collapsed_sections": [],
      "include_colab_link": true
    }
  },
  "nbformat": 4,
  "nbformat_minor": 0
}